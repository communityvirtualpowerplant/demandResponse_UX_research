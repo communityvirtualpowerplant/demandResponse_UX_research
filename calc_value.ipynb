{
 "cells": [
  {
   "cell_type": "code",
   "execution_count": 5,
   "id": "88f95866-74e4-4f80-8050-daf4fdec29ea",
   "metadata": {},
   "outputs": [],
   "source": [
    "import asyncio\n",
    "import requests\n",
    "from datetime import datetime, timedelta\n",
    "import pandas as pd\n",
    "from scipy.integrate import trapezoid\n",
    "import math\n",
    "from statistics import mean\n",
    "from io import StringIO\n",
    "import logging"
   ]
  },
  {
   "cell_type": "code",
   "execution_count": 6,
   "id": "cb8f93ec-7770-4a71-9045-568d35385283",
   "metadata": {},
   "outputs": [],
   "source": [
    "logging.basicConfig(format='%(levelname)-8s [%(filename)s:%(lineno)d] %(message)s',level=logging.DEBUG)"
   ]
  },
  {
   "cell_type": "code",
   "execution_count": 7,
   "id": "5d9a5787-d7e9-44a3-aecc-fb1f75e8054d",
   "metadata": {},
   "outputs": [],
   "source": [
    "async def send_get_request(url:str='http://participant0.local:5000/',endpoint:str='',type:str='json',key=None,timeout=1):\n",
    "        \"\"\"Send GET request to the IP.\"\"\"\n",
    "        # get own data\n",
    "        max_tries = 3\n",
    "\n",
    "        if key:\n",
    "            headers = {\"Authorization\": f\"Bearer {key}\"}\n",
    "        else:\n",
    "            headers = {}\n",
    "            \n",
    "        for attempt in range(max_tries):\n",
    "            try:\n",
    "                response = requests.get(f\"{url}{endpoint}\",headers=headers, timeout=timeout)\n",
    "                response.raise_for_status()\n",
    "                if type == 'json':\n",
    "                    res= parse_datetimes(convert_bools(response.json()))\n",
    "                elif type == 'text':\n",
    "                    res= response.text\n",
    "                else:\n",
    "                    res= response.status_code\n",
    "                break\n",
    "            except requests.exceptions.HTTPError as e:\n",
    "                logging.error(f\"HTTP error occurred: {e}\")\n",
    "            except Exception as e:\n",
    "                logging.error(f'{e}')\n",
    "                if attempt == max_tries-1: # try up to 3 times\n",
    "                    return None\n",
    "                else:\n",
    "                    logging.debug('SLEEEEEEEEEEEEEEEEEPING')\n",
    "                    await asyncio.sleep(1+attempt)\n",
    "        return res\n",
    "\n",
    "# # convert datetimes to iso formatted strings\n",
    "# def convert_datetimes(obj):\n",
    "#     if isinstance(obj, dict):\n",
    "#         return {k: convert_datetimes(v) for k, v in obj.items()}\n",
    "#     elif isinstance(obj, list):\n",
    "#         return [convert_datetimes(i) for i in obj]\n",
    "#     elif isinstance(obj, datetime):\n",
    "#         return obj.isoformat()\n",
    "#     else:\n",
    "#         return obj\n",
    "\n",
    "# convert to datetimes from iso formatted strings\n",
    "def parse_datetimes(obj):\n",
    "    if isinstance(obj, dict):\n",
    "        return {k: parse_datetimes(v) for k, v in obj.items()}\n",
    "    elif isinstance(obj, list):\n",
    "        return [parse_datetimes(i) for i in obj]\n",
    "    elif isinstance(obj, str):\n",
    "        try:\n",
    "            return datetime.fromisoformat(obj)\n",
    "        except ValueError:\n",
    "            return obj\n",
    "    else:\n",
    "        return obj\n",
    "\n",
    " # Function to recursively convert \"true\"/\"false\" strings to Booleans\n",
    "def convert_bools(obj):\n",
    "    if isinstance(obj, dict):\n",
    "        return {k: convert_bools(v) for k, v in obj.items()}\n",
    "    elif isinstance(obj, list):\n",
    "        return [convert_bools(elem) for elem in obj]\n",
    "    elif obj == \"true\":\n",
    "        return True\n",
    "    elif obj == \"false\":\n",
    "        return False\n",
    "    else:\n",
    "        return obj"
   ]
  },
  {
   "cell_type": "code",
   "execution_count": 12,
   "id": "1c83597b-27e6-4d78-925c-9e1d9086624f",
   "metadata": {},
   "outputs": [
    {
     "name": "stderr",
     "output_type": "stream",
     "text": [
      "DEBUG    [connectionpool.py:241] Starting new HTTP connection (1): participant0.local:5000\n",
      "DEBUG    [connectionpool.py:544] http://participant0.local:5000 \"GET /api/performance HTTP/1.1\" 200 976\n"
     ]
    },
    {
     "data": {
      "text/plain": [
       "{'2025-08-02T12:00:00': {'baselineW': [108.2326114814815,\n",
       "   154.50829939814815,\n",
       "   236.75033296296297,\n",
       "   134.5920723611111],\n",
       "  'button': {'offPause': [datetime.datetime(2025, 8, 3, 15, 44, 19, 464179)],\n",
       "   'onPause': []},\n",
       "  'datetime': datetime.datetime(2025, 8, 3, 12, 0),\n",
       "  'event': 'dlrp',\n",
       "  'flexW_avg': 145.48615717592594,\n",
       "  'loadW_avg': 13.034671875,\n",
       "  'loadW_hourly': [17.938846527777777,\n",
       "   0.0,\n",
       "   5.248251250000001,\n",
       "   28.951589722222224],\n",
       "  'modified': datetime.datetime(2025, 8, 3, 15, 44, 22, 844849),\n",
       "  'performanceAvg': 0.8992456181866284,\n",
       "  'performancePerc': [0.8342565490915176,\n",
       "   1.0,\n",
       "   0.9778321272696118,\n",
       "   0.7848937963853845]},\n",
       " '2025-08-03T15:00:00': {'baselineW': [100.94405427083332,\n",
       "   109.37338708333334,\n",
       "   145.98361538194445,\n",
       "   103.36052958333335],\n",
       "  'button': {'offPause': [datetime.datetime(2025, 8, 3, 15, 44, 19, 464179)],\n",
       "   'onPause': []},\n",
       "  'datetime': datetime.datetime(2025, 8, 3, 15, 0),\n",
       "  'event': 'dlrp',\n",
       "  'flexW_avg': 96.51886359375,\n",
       "  'loadW_avg': 18.39653298611111,\n",
       "  'loadW_hourly': [36.79306597222222, 0.0, -1.0, -1.0],\n",
       "  'modified': datetime.datetime(2025, 8, 3, 16, 5, 16, 242917),\n",
       "  'performanceAvg': 0.40887758016557796,\n",
       "  'performancePerc': [0.6355103206623118, 1.0, 0, 0]}}"
      ]
     },
     "metadata": {},
     "output_type": "display_data"
    },
    {
     "data": {
      "text/plain": [
       "{}"
      ]
     },
     "execution_count": 12,
     "metadata": {},
     "output_type": "execute_result"
    }
   ],
   "source": [
    "# get performance\n",
    "async def getPerformance(type):\n",
    "    performance = await send_get_request('http://participant0.local:5000/api/performance',type='json')\n",
    "    display(performance)\n",
    "\n",
    "    filteredPerformance = {}\n",
    "    for k,v in performance.items():\n",
    "        if v['event']==type:\n",
    "            filteredPerformance[k] = v\n",
    "    #filter performance by type\n",
    "    return filteredPerformance\n",
    "await getPerformance('dlrp')"
   ]
  },
  {
   "cell_type": "code",
   "execution_count": null,
   "id": "6f086b76-4386-4301-9803-98717d5e3b1d",
   "metadata": {},
   "outputs": [],
   "source": []
  }
 ],
 "metadata": {
  "kernelspec": {
   "display_name": "Python 3 (ipykernel)",
   "language": "python",
   "name": "python3"
  },
  "language_info": {
   "codemirror_mode": {
    "name": "ipython",
    "version": 3
   },
   "file_extension": ".py",
   "mimetype": "text/x-python",
   "name": "python",
   "nbconvert_exporter": "python",
   "pygments_lexer": "ipython3",
   "version": "3.12.10"
  }
 },
 "nbformat": 4,
 "nbformat_minor": 5
}
