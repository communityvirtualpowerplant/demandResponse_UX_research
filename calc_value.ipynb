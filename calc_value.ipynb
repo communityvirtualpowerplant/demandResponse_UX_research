{
 "cells": [
  {
   "cell_type": "code",
   "execution_count": 13,
   "id": "88f95866-74e4-4f80-8050-daf4fdec29ea",
   "metadata": {},
   "outputs": [],
   "source": [
    "import asyncio\n",
    "import requests\n",
    "from datetime import datetime, timedelta\n",
    "import pandas as pd\n",
    "from scipy.integrate import trapezoid\n",
    "import math\n",
    "from statistics import mean\n",
    "from io import StringIO\n",
    "import logging"
   ]
  },
  {
   "cell_type": "code",
   "execution_count": 14,
   "id": "cb8f93ec-7770-4a71-9045-568d35385283",
   "metadata": {},
   "outputs": [],
   "source": [
    "logging.basicConfig(format='%(levelname)-8s [%(filename)s:%(lineno)d] %(message)s',level=logging.DEBUG)"
   ]
  },
  {
   "cell_type": "code",
   "execution_count": 15,
   "id": "5d9a5787-d7e9-44a3-aecc-fb1f75e8054d",
   "metadata": {},
   "outputs": [],
   "source": [
    "async def send_get_request(url:str='http://participant0.local:5000/',endpoint:str='',type:str='json',key=None,timeout=1):\n",
    "        \"\"\"Send GET request to the IP.\"\"\"\n",
    "        # get own data\n",
    "        max_tries = 3\n",
    "\n",
    "        if key:\n",
    "            headers = {\"Authorization\": f\"Bearer {key}\"}\n",
    "        else:\n",
    "            headers = {}\n",
    "            \n",
    "        for attempt in range(max_tries):\n",
    "            try:\n",
    "                response = requests.get(f\"{url}{endpoint}\",headers=headers, timeout=timeout)\n",
    "                response.raise_for_status()\n",
    "                if type == 'json':\n",
    "                    res= parse_datetimes(convert_bools(response.json()))\n",
    "                elif type == 'text':\n",
    "                    res= response.text\n",
    "                else:\n",
    "                    res= response.status_code\n",
    "                break\n",
    "            except requests.exceptions.HTTPError as e:\n",
    "                logging.error(f\"HTTP error occurred: {e}\")\n",
    "            except Exception as e:\n",
    "                logging.error(f'{e}')\n",
    "                if attempt == max_tries-1: # try up to 3 times\n",
    "                    return None\n",
    "                else:\n",
    "                    logging.debug('SLEEEEEEEEEEEEEEEEEPING')\n",
    "                    await asyncio.sleep(1+attempt)\n",
    "        return res\n",
    "\n",
    "# # convert datetimes to iso formatted strings\n",
    "# def convert_datetimes(obj):\n",
    "#     if isinstance(obj, dict):\n",
    "#         return {k: convert_datetimes(v) for k, v in obj.items()}\n",
    "#     elif isinstance(obj, list):\n",
    "#         return [convert_datetimes(i) for i in obj]\n",
    "#     elif isinstance(obj, datetime):\n",
    "#         return obj.isoformat()\n",
    "#     else:\n",
    "#         return obj\n",
    "\n",
    "# convert to datetimes from iso formatted strings\n",
    "def parse_datetimes(obj):\n",
    "    if isinstance(obj, dict):\n",
    "        return {k: parse_datetimes(v) for k, v in obj.items()}\n",
    "    elif isinstance(obj, list):\n",
    "        return [parse_datetimes(i) for i in obj]\n",
    "    elif isinstance(obj, str):\n",
    "        try:\n",
    "            return datetime.fromisoformat(obj)\n",
    "        except ValueError:\n",
    "            return obj\n",
    "    else:\n",
    "        return obj\n",
    "\n",
    " # Function to recursively convert \"true\"/\"false\" strings to Booleans\n",
    "def convert_bools(obj):\n",
    "    if isinstance(obj, dict):\n",
    "        return {k: convert_bools(v) for k, v in obj.items()}\n",
    "    elif isinstance(obj, list):\n",
    "        return [convert_bools(elem) for elem in obj]\n",
    "    elif obj == \"true\":\n",
    "        return True\n",
    "    elif obj == \"false\":\n",
    "        return False\n",
    "    else:\n",
    "        return obj"
   ]
  },
  {
   "cell_type": "code",
   "execution_count": 38,
   "id": "1c83597b-27e6-4d78-925c-9e1d9086624f",
   "metadata": {},
   "outputs": [
    {
     "name": "stderr",
     "output_type": "stream",
     "text": [
      "DEBUG    [connectionpool.py:241] Starting new HTTP connection (1): participant0.local:5000\n",
      "DEBUG    [connectionpool.py:544] http://participant0.local:5000 \"GET /api/performance HTTP/1.1\" 200 1008\n"
     ]
    }
   ],
   "source": [
    "# get performance\n",
    "async def getAvgReduction(eType,mon):\n",
    "    #get performance data\n",
    "    performance = await send_get_request('http://participant0.local:5000/api/performance',type='json')\n",
    "\n",
    "    #filter performance by event type\n",
    "    filteredPerformance = {}\n",
    "    for k,v in performance.items():\n",
    "        if v['event']==eType:\n",
    "            #filter by month\n",
    "            if int(k.split('-')[1]) == mon:\n",
    "                filteredPerformance[k] = v\n",
    "\n",
    "    # get all flexAvgs in kW\n",
    "    allAvgFlexKW = []\n",
    "    for k,v in filteredPerformance.items():\n",
    "        allAvgFlexKW.append(v['flexW_avg']*.001)\n",
    "\n",
    "    if len(allAvgFlexKW)>0:\n",
    "        totAvgFlexKW = mean(allAvgFlexKW)\n",
    "    else:\n",
    "        totAvgFlexKW = 0\n",
    "    return totAvgFlexKW\n",
    "    \n",
    "perfDict = await getAvgReduction('dlrp',datetime.now().month)"
   ]
  },
  {
   "cell_type": "code",
   "execution_count": 39,
   "id": "0da54b62-fff7-497d-9d60-274ce27b0d49",
   "metadata": {},
   "outputs": [
    {
     "name": "stderr",
     "output_type": "stream",
     "text": [
      "DEBUG    [connectionpool.py:241] Starting new HTTP connection (1): participant0.local:5000\n",
      "DEBUG    [connectionpool.py:544] http://participant0.local:5000 \"GET /api/performance HTTP/1.1\" 200 1008\n",
      "DEBUG    [connectionpool.py:241] Starting new HTTP connection (1): participant0.local:5000\n",
      "DEBUG    [connectionpool.py:544] http://participant0.local:5000 \"GET /api/performance HTTP/1.1\" 200 1008\n"
     ]
    },
    {
     "ename": "TypeError",
     "evalue": "tuple expected at most 1 argument, got 2",
     "output_type": "error",
     "traceback": [
      "\u001b[31m---------------------------------------------------------------------------\u001b[39m",
      "\u001b[31mTypeError\u001b[39m                                 Traceback (most recent call last)",
      "\u001b[36mCell\u001b[39m\u001b[36m \u001b[39m\u001b[32mIn[39]\u001b[39m\u001b[32m, line 5\u001b[39m\n\u001b[32m      2\u001b[39m c = \u001b[38;5;28;01mawait\u001b[39;00m getAvgReduction(\u001b[33m'\u001b[39m\u001b[33mcsrp\u001b[39m\u001b[33m'\u001b[39m,mon)\n\u001b[32m      3\u001b[39m d = \u001b[38;5;28;01mawait\u001b[39;00m getAvgReduction(\u001b[33m'\u001b[39m\u001b[33mdlrp\u001b[39m\u001b[33m'\u001b[39m,mon)\n\u001b[32m----> \u001b[39m\u001b[32m5\u001b[39m \u001b[38;5;28;43mtuple\u001b[39;49m\u001b[43m(\u001b[49m\u001b[43mc\u001b[49m\u001b[43m \u001b[49m\u001b[43m*\u001b[49m\u001b[43m \u001b[49m\u001b[32;43m18\u001b[39;49m\u001b[43m,\u001b[49m\u001b[43md\u001b[49m\u001b[43m \u001b[49m\u001b[43m*\u001b[49m\u001b[43m \u001b[49m\u001b[32;43m18\u001b[39;49m\u001b[43m)\u001b[49m\n",
      "\u001b[31mTypeError\u001b[39m: tuple expected at most 1 argument, got 2"
     ]
    }
   ],
   "source": [
    "mon = datetime.now().month\n",
    "c = await getAvgReduction('csrp',mon)\n",
    "d = await getAvgReduction('dlrp',mon)\n",
    "\n"
   ]
  },
  {
   "cell_type": "code",
   "execution_count": 43,
   "id": "7d469d21-659b-4ddf-8305-6de49cf4cfa3",
   "metadata": {},
   "outputs": [
    {
     "data": {
      "text/plain": [
       "(0, 2.2608295853645837)"
      ]
     },
     "execution_count": 43,
     "metadata": {},
     "output_type": "execute_result"
    }
   ],
   "source": [
    "(c * 18,d * 18)"
   ]
  },
  {
   "cell_type": "code",
   "execution_count": null,
   "id": "a10da791-33c5-47b2-b935-8993db53c3ac",
   "metadata": {},
   "outputs": [],
   "source": []
  }
 ],
 "metadata": {
  "kernelspec": {
   "display_name": "Python 3 (ipykernel)",
   "language": "python",
   "name": "python3"
  },
  "language_info": {
   "codemirror_mode": {
    "name": "ipython",
    "version": 3
   },
   "file_extension": ".py",
   "mimetype": "text/x-python",
   "name": "python",
   "nbconvert_exporter": "python",
   "pygments_lexer": "ipython3",
   "version": "3.12.10"
  }
 },
 "nbformat": 4,
 "nbformat_minor": 5
}
